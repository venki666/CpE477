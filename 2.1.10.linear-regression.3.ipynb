{
  "cells": [
    {
      "cell_type": "markdown",
      "metadata": {
        "id": "jpwY5kLuSlZy"
      },
      "source": [
        "# Coding Exercise: Linear Regression\n",
        "\n",
        "[![Open In Colab <](https://colab.research.google.com/assets/colab-badge.svg)](https://colab.research.google.com/github/edgeimpulse/courseware-embedded-machine-learning/blob/main/Module%202%20-%20Getting%20Started%20with%20Deep%20Learning/2.1.10.linear-regression.3.ipynb)\n",
        "\n",
        "In this assignment you will design your own linear regression model using TensorFlow. If you are taking the course for a certificate during the end of section test you will be asked questions about this assignment.\n",
        "\n",
        "We start by setting up the problem for you."
      ]
    },
    {
      "cell_type": "code",
      "execution_count": null,
      "metadata": {
        "id": "eJEpdsvsGaqD"
      },
      "outputs": [],
      "source": [
        "# DO NOT CHANGE THIS CELL\n",
        "\n",
        "# We first import TensorFlow and other libraries\n",
        "import tensorflow as tf\n",
        "import numpy as np\n",
        "from tensorflow.keras import Sequential\n",
        "from tensorflow.keras.layers import Dense\n",
        "import matplotlib.pyplot as plt\n",
        "\n",
        "# We then set up some functions and local variables\n",
        "predictions = []\n",
        "class myCallback(tf.keras.callbacks.Callback):\n",
        "  def on_epoch_end(self, epoch, logs={}):\n",
        "    predictions.append(model.predict(xs))\n",
        "callbacks = myCallback()\n",
        "\n",
        "# We then define the xs (inputs) and ys (outputs)\n",
        "xs = np.array([-1.0, 0.0, 1.0, 2.0, 3.0, 4.0], dtype=float)\n",
        "ys = np.array([-3.0, -1.0, 1.0, 3.0, 5.0, 7.0], dtype=float)"
      ]
    },
    {
      "cell_type": "markdown",
      "metadata": {
        "id": "tqBUNXxpSlZ2"
      },
      "source": [
        "Please fill out the cell below to define your model and compile it.\n",
        "\n",
        "*A hint: your model may want to learn the average error over the dataset.*"
      ]
    },
    {
      "cell_type": "code",
      "execution_count": null,
      "metadata": {
        "id": "g119bhxySlZ2"
      },
      "outputs": [],
      "source": [
        "# PLEASE COMPELTE THIS CELL\n",
        "\n",
        "SHAPE = #YOUR CODE HERE#\n",
        "LOSS = #YOUR CODE HERE#\n",
        "\n",
        "# Define your model type\n",
        "model = Sequential([Dense(units=1, input_shape=SHAPE)])\n",
        "    \n",
        "# Compile your model with choice of optimizer and loss function\n",
        "model.compile(optimizer='sgd', loss=LOSS)"
      ]
    },
    {
      "cell_type": "markdown",
      "metadata": {
        "id": "u6NAZ9q7SlZ3"
      },
      "source": [
        "We then include the call to fit your model to the data."
      ]
    },
    {
      "cell_type": "code",
      "execution_count": null,
      "metadata": {
        "id": "rJds2Q4_SlZ3"
      },
      "outputs": [],
      "source": [
        "# DO NOT CHANGE THIS CELL\n",
        "\n",
        "# We then fit the model\n",
        "model.fit(xs, ys, epochs=300, callbacks=[callbacks], verbose=2)"
      ]
    },
    {
      "cell_type": "markdown",
      "metadata": {
        "id": "6Ga4UwqKSlZ3"
      },
      "source": [
        "We then plot the resulting prediction at EPOCH_NUMBERS = 1,25,50,150,300. If you'd like to see other Epochs simply update the EPOCH_NUMBERS variable and re-run the cell!"
      ]
    },
    {
      "cell_type": "code",
      "execution_count": null,
      "metadata": {
        "id": "9NSFY8oQbNlD"
      },
      "outputs": [],
      "source": [
        "EPOCH_NUMBERS=[1,25,50,150,300] # Update me to see other Epochs\n",
        "plt.plot(xs,ys,label = \"Ys\")\n",
        "for EPOCH in EPOCH_NUMBERS:\n",
        "    plt.plot(xs,predictions[EPOCH-1],label = \"Epoch = \" + str(EPOCH))\n",
        "plt.legend()\n",
        "plt.show()"
      ]
    }
  ],
  "metadata": {
    "colab": {
      "name": "LinearRegression.ipynb",
      "provenance": []
    },
    "kernelspec": {
      "display_name": "Python 3",
      "language": "python",
      "name": "python3"
    },
    "language_info": {
      "codemirror_mode": {
        "name": "ipython",
        "version": 3
      },
      "file_extension": ".py",
      "mimetype": "text/x-python",
      "name": "python",
      "nbconvert_exporter": "python",
      "pygments_lexer": "ipython3",
      "version": "3.6.9"
    }
  },
  "nbformat": 4,
  "nbformat_minor": 0
}
