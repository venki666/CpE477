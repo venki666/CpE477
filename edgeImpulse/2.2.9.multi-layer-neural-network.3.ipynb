{
  "cells": [
    {
      "cell_type": "markdown",
      "source": [
        "# Coding Exercise: Multi-layer Neural Network\n",
        "\n",
        "[![Open In Colab <](https://colab.research.google.com/assets/colab-badge.svg)](https://colab.research.google.com/github/edgeimpulse/courseware-embedded-machine-learning/blob/main/Module%202%20-%20Getting%20Started%20with%20Deep%20Learning/2.2.9.multi-layer-neural-network.3.ipynb)\n",
        "\n",
        "Now let’s explore the code from the previous reading through a Colab. You’ll be able to train both the single layer and multi-layer model described in the previous reading and explore their predictions and trained weights and biases. Which model learns faster? Which ends up making better predictions?"
      ],
      "metadata": {
        "id": "pT81ZNSbwPD3"
      }
    },
    {
      "cell_type": "code",
      "execution_count": null,
      "metadata": {
        "id": "QCm3x_4F8bvg"
      },
      "outputs": [],
      "source": [
        "import tensorflow as tf\n",
        "import numpy as np\n",
        "from tensorflow import keras"
      ]
    },
    {
      "cell_type": "markdown",
      "metadata": {
        "id": "9oFhTsyXwMgX"
      },
      "source": [
        "#### First lets re-train our original single layer network and see what the prediction is for X = 10.0 and what the learned weights are."
      ]
    },
    {
      "cell_type": "code",
      "execution_count": null,
      "metadata": {
        "id": "CLqOZPfC8gfb"
      },
      "outputs": [],
      "source": [
        "my_layer = keras.layers.Dense(units=1, input_shape=[1])\n",
        "model = tf.keras.Sequential([my_layer])\n",
        "model.compile(optimizer='sgd', loss='mean_squared_error')\n",
        "\n",
        "xs = np.array([-1.0,  0.0, 1.0, 2.0, 3.0, 4.0], dtype=float)\n",
        "ys = np.array([-3.0, -1.0, 1.0, 3.0, 5.0, 7.0], dtype=float)\n",
        "\n",
        "model.fit(xs, ys, epochs=500)"
      ]
    },
    {
      "cell_type": "code",
      "execution_count": null,
      "metadata": {
        "id": "qtu5rJBA8o9M"
      },
      "outputs": [],
      "source": [
        "print(model.predict([10.0]))"
      ]
    },
    {
      "cell_type": "code",
      "execution_count": null,
      "metadata": {
        "id": "adfeHPyVu5Ib"
      },
      "outputs": [],
      "source": [
        "print(my_layer.get_weights())"
      ]
    },
    {
      "cell_type": "markdown",
      "metadata": {
        "id": "-DTLy6rowMgZ"
      },
      "source": [
        "#### Next lets train a 2-layer network and see what its prediction and weights are."
      ]
    },
    {
      "cell_type": "code",
      "execution_count": null,
      "metadata": {
        "id": "HT2ajN1fvAzJ"
      },
      "outputs": [],
      "source": [
        "my_layer_1 = keras.layers.Dense(units=2, input_shape=[1])\n",
        "my_layer_2 = keras.layers.Dense(units=1)\n",
        "model = tf.keras.Sequential([my_layer_1, my_layer_2])\n",
        "model.compile(optimizer='sgd', loss='mean_squared_error')\n",
        "\n",
        "xs = np.array([-1.0,  0.0, 1.0, 2.0, 3.0, 4.0], dtype=float)\n",
        "ys = np.array([-3.0, -1.0, 1.0, 3.0, 5.0, 7.0], dtype=float)\n",
        "\n",
        "model.fit(xs, ys, epochs=500)"
      ]
    },
    {
      "cell_type": "code",
      "execution_count": null,
      "metadata": {
        "id": "caJ7xfgPvRnV"
      },
      "outputs": [],
      "source": [
        "print(model.predict([10.0]))"
      ]
    },
    {
      "cell_type": "code",
      "execution_count": null,
      "metadata": {
        "id": "IfiM8J9RvUys"
      },
      "outputs": [],
      "source": [
        "print(my_layer_1.get_weights())\n",
        "print(my_layer_2.get_weights())"
      ]
    },
    {
      "cell_type": "markdown",
      "metadata": {
        "id": "ZesQLSIewMgb"
      },
      "source": [
        "#### Finally we can manually compute the output for our 2-layer network to better understand how it works."
      ]
    },
    {
      "cell_type": "code",
      "execution_count": null,
      "metadata": {
        "id": "snvWM5NRvgg9"
      },
      "outputs": [],
      "source": [
        "value_to_predict = 10.0\n",
        "\n",
        "layer1_w1 = (my_layer_1.get_weights()[0][0][0])\n",
        "layer1_w2 = (my_layer_1.get_weights()[0][0][1])\n",
        "layer1_b1 = (my_layer_1.get_weights()[1][0])\n",
        "layer1_b2 = (my_layer_1.get_weights()[1][1])\n",
        "\n",
        "\n",
        "layer2_w1 = (my_layer_2.get_weights()[0][0])\n",
        "layer2_w2 = (my_layer_2.get_weights()[0][1])\n",
        "layer2_b = (my_layer_2.get_weights()[1][0])\n",
        "\n",
        "neuron1_output = (layer1_w1 * value_to_predict) + layer1_b1\n",
        "neuron2_output = (layer1_w2 * value_to_predict) + layer1_b2\n",
        "\n",
        "neuron3_output = (layer2_w1 * neuron1_output) + (layer2_w2 * neuron2_output) + layer2_b\n",
        "\n",
        "print(neuron3_output)"
      ]
    }
  ],
  "metadata": {
    "colab": {
      "name": "multi-layer-neural-network.ipynb",
      "provenance": []
    },
    "kernelspec": {
      "display_name": "Python 3",
      "language": "python",
      "name": "python3"
    },
    "language_info": {
      "codemirror_mode": {
        "name": "ipython",
        "version": 3
      },
      "file_extension": ".py",
      "mimetype": "text/x-python",
      "name": "python",
      "nbconvert_exporter": "python",
      "pygments_lexer": "ipython3",
      "version": "3.6.9"
    }
  },
  "nbformat": 4,
  "nbformat_minor": 0
}
