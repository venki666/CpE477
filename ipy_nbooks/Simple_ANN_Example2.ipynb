{
  "nbformat": 4,
  "nbformat_minor": 0,
  "metadata": {
    "colab": {
      "provenance": [],
      "authorship_tag": "ABX9TyOT804jVfYMS1vj1w6TarDX",
      "include_colab_link": true
    },
    "kernelspec": {
      "name": "python3",
      "display_name": "Python 3"
    },
    "language_info": {
      "name": "python"
    }
  },
  "cells": [
    {
      "cell_type": "markdown",
      "metadata": {
        "id": "view-in-github",
        "colab_type": "text"
      },
      "source": [
        "<a href=\"https://colab.research.google.com/github/venki666/CpE477/blob/main/ipy_nbooks/Simple_ANN_Example2.ipynb\" target=\"_parent\"><img src=\"https://colab.research.google.com/assets/colab-badge.svg\" alt=\"Open In Colab\"/></a>"
      ]
    },
    {
      "cell_type": "markdown",
      "source": [
        "##Building ANN from Scratch steps to follow:\n",
        "1. Define independent variables and dependent variable\n",
        "2. Define Hyperparameters\n",
        "3. Define Activation Function and its derivative\n",
        "4. Train the model\n",
        "5. Make predictions\n",
        "\n",
        "####Step-1: Let’s first create our independent variables or input feature set and the corresponding dependent variable or labels."
      ],
      "metadata": {
        "id": "JN8PLX93ZLqD"
      }
    },
    {
      "cell_type": "code",
      "execution_count": null,
      "metadata": {
        "id": "4e8fDKLmZLQ3"
      },
      "outputs": [],
      "source": [
        "#Independent variables\n",
        "input_set = np.array([[0,1,0],\n",
        "                      [0,0,1],\n",
        "                      [1,0,0],\n",
        "                      [1,1,0],\n",
        "                      [1,1,1],\n",
        "                      [0,1,1],\n",
        "                      [0,1,0]])\n",
        "#Dependent variable\n",
        "labels = np.array([[1,\n",
        "                    0,\n",
        "                    0,\n",
        "                    1,\n",
        "                    1,\n",
        "                    0,\n",
        "                    1]])\n",
        "labels = labels.reshape(7,1) \n",
        "#to convert labels to vector"
      ]
    },
    {
      "cell_type": "markdown",
      "source": [
        "###Step-2: Define Hyperparameters\n",
        "\n",
        "we will use the random.seed function of numpy so that we can get the same random values whenever we execute the below code.\n",
        "\n",
        "Next, we initialize our weights with normally distributed random numbers. Since we have three features in the input, we have a vector of three weights. We then initialize the bias value with another random number. Finally, we set the learning rate to 0.05.\n",
        "\n"
      ],
      "metadata": {
        "id": "nyM8UsP8ZsRh"
      }
    },
    {
      "cell_type": "code",
      "source": [
        "np.random.seed(42)\n",
        "weights = np.random.rand(3,1)\n",
        "bias = np.random.rand(1)\n",
        "lr = 0.05 #learning rate"
      ],
      "metadata": {
        "id": "mh4NA6yoZ3n0"
      },
      "execution_count": null,
      "outputs": []
    },
    {
      "cell_type": "markdown",
      "source": [
        "###Step-3: Define Activation Function and it’s derivative: \n",
        "\n",
        "Our activation function is the sigmoid function."
      ],
      "metadata": {
        "id": "VI_50RgHZ7ru"
      }
    },
    {
      "cell_type": "code",
      "source": [
        "def sigmoid(x):\n",
        "    return 1/(1+np.exp(-x))\n",
        "\n",
        "def sigmoid_derivative(x):\n",
        "    return sigmoid(x)*(1-sigmoid(x))    "
      ],
      "metadata": {
        "id": "QgCWpMnYas8U"
      },
      "execution_count": null,
      "outputs": []
    },
    {
      "cell_type": "markdown",
      "source": [
        "###Step-4: Its time to train our ANN model\n",
        "\n",
        "We’ll start off by defining the number of epochs. An epoch is the number of times we want to train the algorithm on our dataset. We will train the algorithm on our data 25,000 times so our epoch will be 25000. You can try a different number to further decrease the cost."
      ],
      "metadata": {
        "id": "6-ujdRffazO8"
      }
    },
    {
      "cell_type": "code",
      "source": [
        "for epoch in range(25000):\n",
        "    inputs = input_set\n",
        "    XW = np.dot(inputs, weights)+ bias\n",
        "    z = sigmoid(XW)\n",
        "    error = z - labels\n",
        "    print(error.sum())\n",
        "    dcost = error\n",
        "    dpred = sigmoid_derivative(z)\n",
        "    z_del = dcost * dpred\n",
        "    inputs = input_set.T\n",
        "    weights = weights - lr*np.dot(inputs, z_del)\n",
        "    \n",
        "    for num in z_del:\n",
        "        bias = bias - lr*num\n"
      ],
      "metadata": {
        "id": "sYp9BriFax6T"
      },
      "execution_count": null,
      "outputs": []
    },
    {
      "cell_type": "markdown",
      "source": [
        "###Step-5: Make predictions\n",
        "\n",
        "Its time to make some predictions. Let's try with [1,0,0]\n",
        "\n",
        "Output : [0.01031463]\n",
        "\n",
        "As you can see the output is closer to 0 than 1 so it is classified as 0.\n",
        "\n",
        "\n"
      ],
      "metadata": {
        "id": "f6t63EP0bMuu"
      }
    },
    {
      "cell_type": "code",
      "source": [
        "single_pt = np.array([1,0,0])\n",
        "result = sigmoid(np.dot(single_pt, weights) + bias)\n",
        "print(result)\n",
        "\n"
      ],
      "metadata": {
        "id": "YW_yNDz8bV0e"
      },
      "execution_count": null,
      "outputs": []
    },
    {
      "cell_type": "markdown",
      "source": [
        "Let's try again with [0,1,0]\n",
        "\n",
        "As you can see the output is closer to 1 than 0 so it is classified as 1.\n"
      ],
      "metadata": {
        "id": "VMwhkHEjbazf"
      }
    },
    {
      "cell_type": "code",
      "source": [
        "single_pt = np.array([0,1,0])\n",
        "result = sigmoid(np.dot(single_pt, weights) + bias)\n",
        "print(result)"
      ],
      "metadata": {
        "id": "ta9O0zJIbbJX"
      },
      "execution_count": null,
      "outputs": []
    }
  ]
}