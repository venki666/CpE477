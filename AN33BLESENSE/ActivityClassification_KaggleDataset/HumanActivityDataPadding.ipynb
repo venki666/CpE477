{
  "nbformat": 4,
  "nbformat_minor": 0,
  "metadata": {
    "colab": {
      "name": "HumanActivityDataPadding.ipynb",
      "provenance": []
    },
    "kernelspec": {
      "name": "python3",
      "display_name": "Python 3"
    }
  },
  "cells": [
    {
      "cell_type": "code",
      "metadata": {
        "id": "SDpWQXxgCw3B",
        "colab_type": "code",
        "colab": {
          "base_uri": "https://localhost:8080/",
          "height": 122
        },
        "outputId": "905eac6f-c584-4e0a-a3c2-c980313af861"
      },
      "source": [
        "from google.colab import drive\n",
        "drive.mount('/content/drive')"
      ],
      "execution_count": null,
      "outputs": [
        {
          "output_type": "stream",
          "text": [
            "Go to this URL in a browser: https://accounts.google.com/o/oauth2/auth?client_id=947318989803-6bn6qk8qdgf4n4g3pfee6491hc0brc4i.apps.googleusercontent.com&redirect_uri=urn%3aietf%3awg%3aoauth%3a2.0%3aoob&response_type=code&scope=email%20https%3a%2f%2fwww.googleapis.com%2fauth%2fdocs.test%20https%3a%2f%2fwww.googleapis.com%2fauth%2fdrive%20https%3a%2f%2fwww.googleapis.com%2fauth%2fdrive.photos.readonly%20https%3a%2f%2fwww.googleapis.com%2fauth%2fpeopleapi.readonly\n",
            "\n",
            "Enter your authorization code:\n",
            "··········\n",
            "Mounted at /content/drive\n"
          ],
          "name": "stdout"
        }
      ]
    },
    {
      "cell_type": "code",
      "metadata": {
        "id": "X2Gcc6mGCuG5",
        "colab_type": "code",
        "colab": {}
      },
      "source": [
        "import numpy as np\n",
        "import pandas as pd"
      ],
      "execution_count": null,
      "outputs": []
    },
    {
      "cell_type": "code",
      "metadata": {
        "id": "7ru8MsCnIA49",
        "colab_type": "code",
        "colab": {}
      },
      "source": [
        "def find_longest_df(directory):\n",
        "    fullfilepaths = list() #list of each files(the full path of file)\n",
        "    \n",
        "    filegroups = ['/dws_1','/dws_2','/dws_11','/jog_9','/jog_16','/sit_5','/sit_13',\n",
        "                  '/std_6','/std_14','/ups_3','/ups_4','/ups_12','/wlk_7','/wlk_8','/wlk_15']\n",
        "    \n",
        "    if (directory == prefix + '/train' ):\n",
        "        namesOfFiles = ['/sub_1.csv','/sub_2.csv','/sub_3.csv','/sub_4.csv','/sub_5.csv',\n",
        "                        '/sub_6.csv','/sub_7.csv','/sub_8.csv','/sub_9.csv','/sub_10.csv',\n",
        "                        '/sub_11.csv','/sub_12.csv','/sub_13.csv','/sub_14.csv','/sub_15.csv',\n",
        "                        '/sub_16.csv','/sub_17.csv']\n",
        "    else:\n",
        "         namesOfFiles = ['/sub_18.csv','/sub_19.csv','/sub_20.csv' ,\n",
        "                         '/sub_21.csv','/sub_22.csv',\n",
        "                         '/sub_23.csv','/sub_24.csv']\n",
        "    #loop will put each files full path in a list\n",
        "    for group in filegroups:\n",
        "        filepath = directory + group \n",
        "        for file in namesOfFiles:\n",
        "            fullfilepaths.append(filepath + file)\n",
        "    #return fullfilepaths\n",
        "    length_of_files = list()\n",
        "    for file in fullfilepaths:\n",
        "        df = pd.read_csv(file)\n",
        "        length_of_files.append(len(df))\n",
        "    return sorted(length_of_files)[-1]"
      ],
      "execution_count": null,
      "outputs": []
    },
    {
      "cell_type": "code",
      "metadata": {
        "id": "QTuzfyQAICaE",
        "colab_type": "code",
        "colab": {}
      },
      "source": [
        "#variables to store length of longest files\n",
        "longest_file_train = find_longest_df(prefix+'/train')\n",
        "longest_file_test = find_longest_df(prefix+'/test')"
      ],
      "execution_count": null,
      "outputs": []
    },
    {
      "cell_type": "code",
      "metadata": {
        "id": "y-MO1A2gqyIG",
        "colab_type": "code",
        "colab": {}
      },
      "source": [
        "longest_file_train"
      ],
      "execution_count": null,
      "outputs": []
    },
    {
      "cell_type": "code",
      "metadata": {
        "id": "Q4OwtCIKq4M8",
        "colab_type": "code",
        "colab": {}
      },
      "source": [
        "longest_file_test"
      ],
      "execution_count": null,
      "outputs": []
    },
    {
      "cell_type": "code",
      "metadata": {
        "id": "DmJm46S3HMYi",
        "colab_type": "code",
        "colab": {}
      },
      "source": [
        "prefix = '/content/drive/My Drive/HumanActivityDatasetSplit(3000)'"
      ],
      "execution_count": null,
      "outputs": []
    },
    {
      "cell_type": "code",
      "metadata": {
        "id": "fd8S2RZIC57Q",
        "colab_type": "code",
        "colab": {}
      },
      "source": [
        "def pad_files(filepath,train=False):\n",
        "    #longest_file = longest_file_train\n",
        "    #print('longest file is ' + str(longest_file))\n",
        "    #dataframe = pd.read_csv(filepath, header=None, delim_whitespace=True)\n",
        "    dataframe = pd.read_csv(filepath)\n",
        "    #dataframe = dataframe.drop(labels='Unnamed: 0',axis=1)\n",
        "    dataframe = dataframe.drop(dataframe.columns[[0]],axis=1)\n",
        "    dataframe = dataframe.drop(dataframe.columns[[0,1,2,3,4,5]],axis=1) #dropping grav and att columns\n",
        "    ##\n",
        "    location = filepath.replace(prefix,'')\n",
        "    #pad the length of dataframe to be length of file with most timesteps\n",
        "    empty_row = pd.DataFrame([[0]*dataframe.shape[1]],columns=dataframe.columns)\n",
        "    while(len(dataframe) < 3000):\n",
        "        dataframe = dataframe.append(dataframe.head(3000 - len(dataframe)),ignore_index=True)\n",
        "    while(len(dataframe) > 3000):\n",
        "      dataframe.drop(dataframe.tail(1).index,inplace=True)\n",
        "      #if(len(dataframe)%50 == 0):\n",
        "       # print(str(len(dataframe)))\n",
        "    dataframe.to_csv('/content/drive/My Drive/HumanActivityDatasetSplit(3000)'+ location)"
      ],
      "execution_count": null,
      "outputs": []
    },
    {
      "cell_type": "code",
      "metadata": {
        "id": "L8LmncL-D4yy",
        "colab_type": "code",
        "colab": {}
      },
      "source": [
        "# load a list of files and return as a 3d numpy array\n",
        "def load_each_file(filepaths, prefix='',train=False):\n",
        "    count = 0\n",
        "    loaded = list()\n",
        "    for file in filepaths:\n",
        "        data = pad_files(file,train=train) #call this function to rewrite each file to new csv file\n",
        "        count = count+1\n",
        "        print('# of Files written: ' + str(count)) "
      ],
      "execution_count": null,
      "outputs": []
    },
    {
      "cell_type": "code",
      "metadata": {
        "id": "P0PDsDVjDYi1",
        "colab_type": "code",
        "colab": {}
      },
      "source": [
        "def load_dataset_group(directory):\n",
        "    fullfilepaths = list() #list of each files(the full path of file)\n",
        "    \n",
        "    filegroups = ['/dws_1','/dws_2','/dws_11','/jog_9','/jog_16','/sit_5','/sit_13',\n",
        "                  '/std_6','/std_14','/ups_3','/ups_4','/ups_12','/wlk_7','/wlk_8','/wlk_15']\n",
        "    \n",
        "    if (directory == prefix + '/train' ):\n",
        "        namesOfFiles = ['/sub_1.csv','/sub_2.csv','/sub_3.csv','/sub_4.csv','/sub_5.csv',\n",
        "                        '/sub_6.csv','/sub_7.csv','/sub_8.csv','/sub_9.csv','/sub_10.csv',\n",
        "                        '/sub_11.csv','/sub_12.csv','/sub_13.csv','/sub_14.csv','/sub_15.csv',\n",
        "                        '/sub_16.csv','/sub_17.csv']\n",
        "        train = True\n",
        "    else:\n",
        "        train = False\n",
        "        namesOfFiles = ['/sub_18.csv','/sub_19.csv','/sub_20.csv' ,\n",
        "                         '/sub_21.csv','/sub_22.csv',\n",
        "                         '/sub_23.csv','/sub_24.csv']\n",
        "    #loop will put each files full path in a list\n",
        "    for group in filegroups:\n",
        "        filepath = directory + group \n",
        "        for file in namesOfFiles:\n",
        "            fullfilepaths.append(filepath + file)\n",
        "            \n",
        "    load_each_file(fullfilepaths,train=train)"
      ],
      "execution_count": null,
      "outputs": []
    },
    {
      "cell_type": "code",
      "metadata": {
        "id": "_fBIObCLGiTL",
        "colab_type": "code",
        "colab": {}
      },
      "source": [
        "load_dataset_group(prefix + '/test')\n",
        "load_dataset_group(prefix+'/train')"
      ],
      "execution_count": null,
      "outputs": []
    },
    {
      "cell_type": "code",
      "metadata": {
        "id": "TNNfcAVlHxBl",
        "colab_type": "code",
        "colab": {}
      },
      "source": [
        "def load_file(filepath,train=False):\n",
        "    #dataframe = pd.read_csv(filepath, header=None, delim_whitespace=True)\n",
        "    dataframe = pd.read_csv(filepath)\n",
        "    #dataframe = dataframe.drop(labels='Unnamed: 0',axis=1)\n",
        "         ####dataframe = dataframe.drop(dataframe.columns[[0]],axis=1)\n",
        "    ##\n",
        "    #pad the length of dataframe to be length of file with most timesteps\n",
        "    ##\n",
        "    #dataframe = dataframe[:300] #we are only getting first 300 time steps for consistency\n",
        "    return dataframe.values"
      ],
      "execution_count": null,
      "outputs": []
    },
    {
      "cell_type": "code",
      "metadata": {
        "id": "EVZOLroJLVcy",
        "colab_type": "code",
        "colab": {}
      },
      "source": [
        "df = load_file(prefix+'/train/y_train.txt')"
      ],
      "execution_count": null,
      "outputs": []
    },
    {
      "cell_type": "code",
      "metadata": {
        "id": "t6KmNrR2eD86",
        "colab_type": "code",
        "colab": {}
      },
      "source": [
        "df = df.drop(df.columns[[0,1,2,3,4,5]],axis=1)"
      ],
      "execution_count": null,
      "outputs": []
    },
    {
      "cell_type": "code",
      "metadata": {
        "id": "JkiYtTA1g-n5",
        "colab_type": "code",
        "colab": {}
      },
      "source": [
        "df = df.drop(df.columns[[0]],axis =1)"
      ],
      "execution_count": null,
      "outputs": []
    },
    {
      "cell_type": "code",
      "metadata": {
        "id": "KMM57yL7Lmhb",
        "colab_type": "code",
        "colab": {}
      },
      "source": [
        "df = df.append(df.head(5),ignore_index=True)"
      ],
      "execution_count": null,
      "outputs": []
    },
    {
      "cell_type": "code",
      "metadata": {
        "id": "wBvyYqX4LzOg",
        "colab_type": "code",
        "colab": {
          "base_uri": "https://localhost:8080/",
          "height": 34
        },
        "outputId": "2e279262-b108-4d19-bbd4-e885486f7b25"
      },
      "source": [
        "len(df)"
      ],
      "execution_count": null,
      "outputs": [
        {
          "output_type": "execute_result",
          "data": {
            "text/plain": [
              "254"
            ]
          },
          "metadata": {
            "tags": []
          },
          "execution_count": 42
        }
      ]
    },
    {
      "cell_type": "code",
      "metadata": {
        "id": "-Q_i5FLTL0Xe",
        "colab_type": "code",
        "colab": {
          "base_uri": "https://localhost:8080/",
          "height": 34
        },
        "outputId": "6f75318a-8fed-49c2-e750-1c155917402c"
      },
      "source": [
        "len(df)"
      ],
      "execution_count": null,
      "outputs": [
        {
          "output_type": "execute_result",
          "data": {
            "text/plain": [
              "255"
            ]
          },
          "metadata": {
            "tags": []
          },
          "execution_count": 32
        }
      ]
    },
    {
      "cell_type": "code",
      "metadata": {
        "id": "pyK_t5D_msKG",
        "colab_type": "code",
        "colab": {}
      },
      "source": [
        ""
      ],
      "execution_count": null,
      "outputs": []
    }
  ]
}