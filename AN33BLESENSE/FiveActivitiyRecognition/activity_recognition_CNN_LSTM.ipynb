{
  "nbformat": 4,
  "nbformat_minor": 0,
  "metadata": {
    "kernelspec": {
      "display_name": "Python 3",
      "language": "python",
      "name": "python3"
    },
    "language_info": {
      "codemirror_mode": {
        "name": "ipython",
        "version": 3
      },
      "file_extension": ".py",
      "mimetype": "text/x-python",
      "name": "python",
      "nbconvert_exporter": "python",
      "pygments_lexer": "ipython3",
      "version": "3.7.7"
    },
    "colab": {
      "name": "activity_recognition-CNN-LSTM.ipynb",
      "provenance": []
    }
  },
  "cells": [
    {
      "cell_type": "code",
      "metadata": {
        "id": "JT7gQI18aUjf",
        "colab_type": "code",
        "colab": {}
      },
      "source": [
        "import numpy as np\n",
        "import pandas as pd\n",
        "import tensorflow as tf"
      ],
      "execution_count": 1,
      "outputs": []
    },
    {
      "cell_type": "code",
      "metadata": {
        "id": "9LI_bw4AavSV",
        "colab_type": "code",
        "colab": {
          "base_uri": "https://localhost:8080/",
          "height": 122
        },
        "outputId": "a98285a7-7c23-40ba-93ce-3e133b24bc60"
      },
      "source": [
        "from google.colab import drive\n",
        "drive.mount('/content/drive')"
      ],
      "execution_count": 2,
      "outputs": [
        {
          "output_type": "stream",
          "text": [
            "Go to this URL in a browser: https://accounts.google.com/o/oauth2/auth?client_id=947318989803-6bn6qk8qdgf4n4g3pfee6491hc0brc4i.apps.googleusercontent.com&redirect_uri=urn%3aietf%3awg%3aoauth%3a2.0%3aoob&response_type=code&scope=email%20https%3a%2f%2fwww.googleapis.com%2fauth%2fdocs.test%20https%3a%2f%2fwww.googleapis.com%2fauth%2fdrive%20https%3a%2f%2fwww.googleapis.com%2fauth%2fdrive.photos.readonly%20https%3a%2f%2fwww.googleapis.com%2fauth%2fpeopleapi.readonly\n",
            "\n",
            "Enter your authorization code:\n",
            "··········\n",
            "Mounted at /content/drive\n"
          ],
          "name": "stdout"
        }
      ]
    },
    {
      "cell_type": "code",
      "metadata": {
        "id": "Q94aieW4aUjj",
        "colab_type": "code",
        "colab": {}
      },
      "source": [
        "directory = '/content/drive/My Drive/ActivityData'"
      ],
      "execution_count": 3,
      "outputs": []
    },
    {
      "cell_type": "code",
      "metadata": {
        "id": "D6T5hpSoaUjl",
        "colab_type": "code",
        "colab": {}
      },
      "source": [
        "samples_per_activity = 238.0"
      ],
      "execution_count": 4,
      "outputs": []
    },
    {
      "cell_type": "code",
      "metadata": {
        "id": "XXCCwtF7aUjn",
        "colab_type": "code",
        "colab": {}
      },
      "source": [
        "#remove empty lines from files\n",
        "def save_to_dataframe(filepath):\n",
        "  dataframe = pd.read_csv(filepath)\n",
        "  dataframe = dataframe.dropna()\n",
        "  return dataframe"
      ],
      "execution_count": 5,
      "outputs": []
    },
    {
      "cell_type": "code",
      "metadata": {
        "id": "6NdtcFHQaUjr",
        "colab_type": "code",
        "colab": {}
      },
      "source": [
        "jogging_df    = save_to_dataframe(directory+'/Jogging.csv')\n",
        "walking_df    = save_to_dataframe(directory+'/Walking.csv')\n",
        "stationary_df = save_to_dataframe(directory+'/Stationary.csv')\n",
        "upstairs_df   = save_to_dataframe(directory+'/Upstairs.csv')\n",
        "downstairs_df = save_to_dataframe(directory+'/Downstairs.csv')\n",
        "\n",
        "jogging_test_df    = save_to_dataframe(directory+'/test/jogging_test.csv')\n",
        "walking_test_df    = save_to_dataframe(directory+'/test/walking_test.csv')\n",
        "stationary_test_df = save_to_dataframe(directory+'/test/stationary_test.csv')\n",
        "upstairs_test_df   = save_to_dataframe(directory+'/test/upstairs_test.csv')\n",
        "downstairs_test_df = save_to_dataframe(directory+'/test/downstairs_test.csv')"
      ],
      "execution_count": 6,
      "outputs": []
    },
    {
      "cell_type": "code",
      "metadata": {
        "id": "mlPb2mafaUjt",
        "colab_type": "code",
        "colab": {}
      },
      "source": [
        "#get value to reshape to make 3d numpy array\n",
        "reshape_jogging =int(jogging_df.values.shape[0]      / (samples_per_activity))\n",
        "reshape_walking = int(walking_df.values.shape[0]     / (samples_per_activity))\n",
        "reshape_stationary = int(stationary_df.values.shape[0]/ (samples_per_activity))\n",
        "reshape_upstairs = int(upstairs_df.values.shape[0]   / (samples_per_activity))\n",
        "reshape_downstairs= int(downstairs_df.values.shape[0]/ (samples_per_activity))\n",
        "\n",
        "reshape_jogging_test =int(jogging_test_df.values.shape[0]      / (samples_per_activity))\n",
        "reshape_walking_test = int(walking_test_df.values.shape[0]     / (samples_per_activity))\n",
        "reshape_stationary_test = int(stationary_test_df.values.shape[0]/ (samples_per_activity))\n",
        "reshape_upstairs_test = int(upstairs_test_df.values.shape[0]   / (samples_per_activity))\n",
        "reshape_downstairs_test = int(downstairs_test_df.values.shape[0]/ (samples_per_activity))"
      ],
      "execution_count": 7,
      "outputs": []
    },
    {
      "cell_type": "code",
      "metadata": {
        "id": "QHraJrz4aUjv",
        "colab_type": "code",
        "colab": {}
      },
      "source": [
        "#reshape into 3d numpy array with previously found values\n",
        "jogging = jogging_df.values.reshape((reshape_jogging,238,6))\n",
        "walking = walking_df.values.reshape((reshape_walking,238,6))\n",
        "stationary = stationary_df.values.reshape((reshape_stationary,238,6))\n",
        "upstairs = upstairs_df.values.reshape((reshape_upstairs,238,6))\n",
        "downstairs = downstairs_df.values.reshape((reshape_downstairs,238,6))\n",
        "\n",
        "jogging_t = jogging_test_df.values.reshape((reshape_jogging_test,238,6))\n",
        "walking_t = walking_test_df.values.reshape((reshape_walking_test,238,6))\n",
        "stationary_t = stationary_test_df.values.reshape((reshape_stationary_test,238,6))\n",
        "upstairs_t = upstairs_test_df.values.reshape((reshape_upstairs_test,238,6))\n",
        "downstairs_t = downstairs_test_df.values.reshape((reshape_downstairs_test,238,6))"
      ],
      "execution_count": 8,
      "outputs": []
    },
    {
      "cell_type": "code",
      "metadata": {
        "id": "73hreUuWaUjx",
        "colab_type": "code",
        "colab": {
          "base_uri": "https://localhost:8080/",
          "height": 221
        },
        "outputId": "d6293ca4-31b8-4073-93b5-95d63379458f"
      },
      "source": [
        "#print how many samples for each activity and shape\n",
        "print(\"Train:\")\n",
        "print(jogging.shape[0],'samples of Jogging ',jogging.shape)\n",
        "print(walking.shape[0],'samples of Walking ',walking.shape)\n",
        "print(stationary.shape[0],'samples of Stationary',stationary.shape)\n",
        "print(upstairs.shape[0],'samples of Upstairs ',upstairs.shape)\n",
        "print(downstairs.shape[0],'samples of Downstairs ',downstairs.shape)\n",
        "\n",
        "print(\"Test:\")\n",
        "print(jogging_t.shape[0],'samples of Jogging ',jogging_t.shape)\n",
        "print(walking_t.shape[0],'samples of Walking ',walking_t.shape)\n",
        "print(stationary_t.shape[0],'samples of Stationary',stationary_t.shape)\n",
        "print(upstairs_t.shape[0],'samples of Upstairs ',upstairs_t.shape)\n",
        "print(downstairs_t.shape[0],'samples of Downstairs ',downstairs_t.shape)"
      ],
      "execution_count": 9,
      "outputs": [
        {
          "output_type": "stream",
          "text": [
            "Train:\n",
            "42 samples of Jogging  (42, 238, 6)\n",
            "91 samples of Walking  (91, 238, 6)\n",
            "47 samples of Stationary (47, 238, 6)\n",
            "49 samples of Upstairs  (49, 238, 6)\n",
            "39 samples of Downstairs  (39, 238, 6)\n",
            "Test:\n",
            "10 samples of Jogging  (10, 238, 6)\n",
            "10 samples of Walking  (10, 238, 6)\n",
            "10 samples of Stationary (10, 238, 6)\n",
            "10 samples of Upstairs  (10, 238, 6)\n",
            "10 samples of Downstairs  (10, 238, 6)\n"
          ],
          "name": "stdout"
        }
      ]
    },
    {
      "cell_type": "code",
      "metadata": {
        "id": "lYGcwtaNaUj0",
        "colab_type": "code",
        "colab": {}
      },
      "source": [
        "#create trainy that corresponds to each array and combine into one array, use one hot encoding\n",
        "jogging_y    = np.zeros(jogging.shape[0])\n",
        "walking_y    = np.ones(walking.shape[0])\n",
        "stationary_y = np.full((stationary.shape[0]),2)\n",
        "upstairs_y   = np.full((upstairs.shape[0]),3)\n",
        "downstairs_y = np.full((downstairs.shape[0]),4)\n",
        "trainy = np.concatenate((jogging_y,walking_y,stationary_y,upstairs_y,\n",
        "                         downstairs_y))\n",
        "trainy = tf.keras.utils.to_categorical(trainy)\n",
        "\n",
        "#create testy the same way\n",
        "jogging_ytest = np.zeros(jogging_t.shape[0])\n",
        "walking_ytest    = np.ones(walking_t.shape[0])\n",
        "stationary_ytest = np.full((stationary_t.shape[0]),2)\n",
        "upstairs_ytest   = np.full((upstairs_t.shape[0]),3)\n",
        "downstairs_ytest = np.full((downstairs_t.shape[0]),4)\n",
        "testy = np.concatenate((jogging_ytest,walking_ytest,stationary_ytest,upstairs_ytest,\n",
        "                         downstairs_ytest))\n",
        "testy = tf.keras.utils.to_categorical(testy)"
      ],
      "execution_count": 10,
      "outputs": []
    },
    {
      "cell_type": "code",
      "metadata": {
        "id": "PvjYz_-OaUj2",
        "colab_type": "code",
        "colab": {}
      },
      "source": [
        "trainX = np.concatenate((jogging,walking,stationary,upstairs,downstairs))\n",
        "testX = np.concatenate((jogging_t,walking_t,stationary_t,upstairs_t,downstairs_t))"
      ],
      "execution_count": 11,
      "outputs": []
    },
    {
      "cell_type": "code",
      "metadata": {
        "scrolled": true,
        "id": "wquiaE1DaUj4",
        "colab_type": "code",
        "colab": {
          "base_uri": "https://localhost:8080/",
          "height": 119
        },
        "outputId": "cc8461ed-a48c-4f72-f769-d2d49cb7c6fe"
      },
      "source": [
        "print(\"Train: \")\n",
        "print(trainX.shape)\n",
        "print(trainy.shape)\n",
        "\n",
        "print(\"Test: \")\n",
        "print(testX.shape)\n",
        "print(testy.shape)"
      ],
      "execution_count": 12,
      "outputs": [
        {
          "output_type": "stream",
          "text": [
            "Train: \n",
            "(268, 238, 6)\n",
            "(268, 5)\n",
            "Test: \n",
            "(50, 238, 6)\n",
            "(50, 5)\n"
          ],
          "name": "stdout"
        }
      ]
    },
    {
      "cell_type": "code",
      "metadata": {
        "id": "JeXM2Zi5aUj6",
        "colab_type": "code",
        "colab": {
          "base_uri": "https://localhost:8080/",
          "height": 1000
        },
        "outputId": "4487c709-30fa-43b7-872b-133d59b2f232"
      },
      "source": [
        "#build the model LSTM\n",
        "model = tf.keras.Sequential()\n",
        "model.add(tf.keras.layers.LSTM(30,input_shape=(238,6)))\n",
        "model.add(tf.keras.layers.Dense(5,activation='softmax'))\n",
        "model.compile(loss='categorical_crossentropy', optimizer='adam', metrics=['accuracy'])\n",
        "history = model.fit(trainX,trainy,epochs=100)"
      ],
      "execution_count": 13,
      "outputs": [
        {
          "output_type": "stream",
          "text": [
            "Epoch 1/100\n",
            "9/9 [==============================] - 1s 65ms/step - loss: 1.7596 - accuracy: 0.2201\n",
            "Epoch 2/100\n",
            "9/9 [==============================] - 1s 68ms/step - loss: 1.5398 - accuracy: 0.3881\n",
            "Epoch 3/100\n",
            "9/9 [==============================] - 1s 67ms/step - loss: 1.3643 - accuracy: 0.4888\n",
            "Epoch 4/100\n",
            "9/9 [==============================] - 1s 74ms/step - loss: 1.2344 - accuracy: 0.5746\n",
            "Epoch 5/100\n",
            "9/9 [==============================] - 1s 66ms/step - loss: 1.1201 - accuracy: 0.6567\n",
            "Epoch 6/100\n",
            "9/9 [==============================] - 1s 66ms/step - loss: 1.0208 - accuracy: 0.7201\n",
            "Epoch 7/100\n",
            "9/9 [==============================] - 1s 67ms/step - loss: 0.9352 - accuracy: 0.7649\n",
            "Epoch 8/100\n",
            "9/9 [==============================] - 1s 74ms/step - loss: 0.8561 - accuracy: 0.8097\n",
            "Epoch 9/100\n",
            "9/9 [==============================] - 1s 66ms/step - loss: 0.7923 - accuracy: 0.8246\n",
            "Epoch 10/100\n",
            "9/9 [==============================] - 1s 68ms/step - loss: 0.7344 - accuracy: 0.8433\n",
            "Epoch 11/100\n",
            "9/9 [==============================] - 1s 66ms/step - loss: 0.6847 - accuracy: 0.8470\n",
            "Epoch 12/100\n",
            "9/9 [==============================] - 1s 66ms/step - loss: 0.6419 - accuracy: 0.8657\n",
            "Epoch 13/100\n",
            "9/9 [==============================] - 1s 67ms/step - loss: 0.6019 - accuracy: 0.8731\n",
            "Epoch 14/100\n",
            "9/9 [==============================] - 1s 65ms/step - loss: 0.5655 - accuracy: 0.8881\n",
            "Epoch 15/100\n",
            "9/9 [==============================] - 1s 67ms/step - loss: 0.5325 - accuracy: 0.8955\n",
            "Epoch 16/100\n",
            "9/9 [==============================] - 1s 68ms/step - loss: 0.5029 - accuracy: 0.8993\n",
            "Epoch 17/100\n",
            "9/9 [==============================] - 1s 67ms/step - loss: 0.4795 - accuracy: 0.9030\n",
            "Epoch 18/100\n",
            "9/9 [==============================] - 1s 68ms/step - loss: 0.4575 - accuracy: 0.9067\n",
            "Epoch 19/100\n",
            "9/9 [==============================] - 1s 69ms/step - loss: 0.4364 - accuracy: 0.9104\n",
            "Epoch 20/100\n",
            "9/9 [==============================] - 1s 72ms/step - loss: 0.4171 - accuracy: 0.9179\n",
            "Epoch 21/100\n",
            "9/9 [==============================] - 1s 68ms/step - loss: 0.3988 - accuracy: 0.9179\n",
            "Epoch 22/100\n",
            "9/9 [==============================] - 1s 68ms/step - loss: 0.3807 - accuracy: 0.9254\n",
            "Epoch 23/100\n",
            "9/9 [==============================] - 1s 71ms/step - loss: 0.3622 - accuracy: 0.9291\n",
            "Epoch 24/100\n",
            "9/9 [==============================] - 1s 69ms/step - loss: 0.3462 - accuracy: 0.9366\n",
            "Epoch 25/100\n",
            "9/9 [==============================] - 1s 73ms/step - loss: 0.3290 - accuracy: 0.9366\n",
            "Epoch 26/100\n",
            "9/9 [==============================] - 1s 69ms/step - loss: 0.3167 - accuracy: 0.9403\n",
            "Epoch 27/100\n",
            "9/9 [==============================] - 1s 67ms/step - loss: 0.3029 - accuracy: 0.9403\n",
            "Epoch 28/100\n",
            "9/9 [==============================] - 1s 71ms/step - loss: 0.2899 - accuracy: 0.9440\n",
            "Epoch 29/100\n",
            "9/9 [==============================] - 1s 66ms/step - loss: 0.2757 - accuracy: 0.9478\n",
            "Epoch 30/100\n",
            "9/9 [==============================] - 1s 67ms/step - loss: 0.2640 - accuracy: 0.9515\n",
            "Epoch 31/100\n",
            "9/9 [==============================] - 1s 66ms/step - loss: 0.2532 - accuracy: 0.9515\n",
            "Epoch 32/100\n",
            "9/9 [==============================] - 1s 66ms/step - loss: 0.2448 - accuracy: 0.9515\n",
            "Epoch 33/100\n",
            "9/9 [==============================] - 1s 65ms/step - loss: 0.2355 - accuracy: 0.9552\n",
            "Epoch 34/100\n",
            "9/9 [==============================] - 1s 69ms/step - loss: 0.2283 - accuracy: 0.9552\n",
            "Epoch 35/100\n",
            "9/9 [==============================] - 1s 67ms/step - loss: 0.2206 - accuracy: 0.9552\n",
            "Epoch 36/100\n",
            "9/9 [==============================] - 1s 68ms/step - loss: 0.2136 - accuracy: 0.9552\n",
            "Epoch 37/100\n",
            "9/9 [==============================] - 1s 66ms/step - loss: 0.2069 - accuracy: 0.9552\n",
            "Epoch 38/100\n",
            "9/9 [==============================] - 1s 69ms/step - loss: 0.2006 - accuracy: 0.9590\n",
            "Epoch 39/100\n",
            "9/9 [==============================] - 1s 68ms/step - loss: 0.1943 - accuracy: 0.9552\n",
            "Epoch 40/100\n",
            "9/9 [==============================] - 1s 65ms/step - loss: 0.1889 - accuracy: 0.9552\n",
            "Epoch 41/100\n",
            "9/9 [==============================] - 1s 73ms/step - loss: 0.1841 - accuracy: 0.9590\n",
            "Epoch 42/100\n",
            "9/9 [==============================] - 1s 68ms/step - loss: 0.1783 - accuracy: 0.9590\n",
            "Epoch 43/100\n",
            "9/9 [==============================] - 1s 67ms/step - loss: 0.1728 - accuracy: 0.9627\n",
            "Epoch 44/100\n",
            "9/9 [==============================] - 1s 67ms/step - loss: 0.1667 - accuracy: 0.9627\n",
            "Epoch 45/100\n",
            "9/9 [==============================] - 1s 66ms/step - loss: 0.1608 - accuracy: 0.9627\n",
            "Epoch 46/100\n",
            "9/9 [==============================] - 1s 67ms/step - loss: 0.1523 - accuracy: 0.9664\n",
            "Epoch 47/100\n",
            "9/9 [==============================] - 1s 68ms/step - loss: 0.1463 - accuracy: 0.9664\n",
            "Epoch 48/100\n",
            "9/9 [==============================] - 1s 67ms/step - loss: 0.1401 - accuracy: 0.9701\n",
            "Epoch 49/100\n",
            "9/9 [==============================] - 1s 66ms/step - loss: 0.1326 - accuracy: 0.9701\n",
            "Epoch 50/100\n",
            "9/9 [==============================] - 1s 67ms/step - loss: 0.1277 - accuracy: 0.9701\n",
            "Epoch 51/100\n",
            "9/9 [==============================] - 1s 66ms/step - loss: 0.1211 - accuracy: 0.9776\n",
            "Epoch 52/100\n",
            "9/9 [==============================] - 1s 67ms/step - loss: 0.1169 - accuracy: 0.9776\n",
            "Epoch 53/100\n",
            "9/9 [==============================] - 1s 67ms/step - loss: 0.1129 - accuracy: 0.9776\n",
            "Epoch 54/100\n",
            "9/9 [==============================] - 1s 67ms/step - loss: 0.1084 - accuracy: 0.9851\n",
            "Epoch 55/100\n",
            "9/9 [==============================] - 1s 68ms/step - loss: 0.1042 - accuracy: 0.9851\n",
            "Epoch 56/100\n",
            "9/9 [==============================] - 1s 71ms/step - loss: 0.1012 - accuracy: 0.9888\n",
            "Epoch 57/100\n",
            "9/9 [==============================] - 1s 67ms/step - loss: 0.0974 - accuracy: 0.9888\n",
            "Epoch 58/100\n",
            "9/9 [==============================] - 1s 73ms/step - loss: 0.0941 - accuracy: 0.9925\n",
            "Epoch 59/100\n",
            "9/9 [==============================] - 1s 66ms/step - loss: 0.0908 - accuracy: 0.9925\n",
            "Epoch 60/100\n",
            "9/9 [==============================] - 1s 72ms/step - loss: 0.0880 - accuracy: 0.9925\n",
            "Epoch 61/100\n",
            "9/9 [==============================] - 1s 68ms/step - loss: 0.0846 - accuracy: 0.9925\n",
            "Epoch 62/100\n",
            "9/9 [==============================] - 1s 63ms/step - loss: 0.0824 - accuracy: 0.9925\n",
            "Epoch 63/100\n",
            "9/9 [==============================] - 1s 64ms/step - loss: 0.0797 - accuracy: 0.9925\n",
            "Epoch 64/100\n",
            "9/9 [==============================] - 1s 68ms/step - loss: 0.0774 - accuracy: 0.9925\n",
            "Epoch 65/100\n",
            "9/9 [==============================] - 1s 67ms/step - loss: 0.0745 - accuracy: 0.9925\n",
            "Epoch 66/100\n",
            "9/9 [==============================] - 1s 72ms/step - loss: 0.0717 - accuracy: 0.9963\n",
            "Epoch 67/100\n",
            "9/9 [==============================] - 1s 68ms/step - loss: 0.0693 - accuracy: 0.9963\n",
            "Epoch 68/100\n",
            "9/9 [==============================] - 1s 64ms/step - loss: 0.0675 - accuracy: 0.9963\n",
            "Epoch 69/100\n",
            "9/9 [==============================] - 1s 67ms/step - loss: 0.0657 - accuracy: 0.9963\n",
            "Epoch 70/100\n",
            "9/9 [==============================] - 1s 67ms/step - loss: 0.0641 - accuracy: 0.9963\n",
            "Epoch 71/100\n",
            "9/9 [==============================] - 1s 66ms/step - loss: 0.0625 - accuracy: 0.9963\n",
            "Epoch 72/100\n",
            "9/9 [==============================] - 1s 66ms/step - loss: 0.0610 - accuracy: 0.9963\n",
            "Epoch 73/100\n",
            "9/9 [==============================] - 1s 65ms/step - loss: 0.0593 - accuracy: 0.9963\n",
            "Epoch 74/100\n",
            "9/9 [==============================] - 1s 65ms/step - loss: 0.0579 - accuracy: 0.9963\n",
            "Epoch 75/100\n",
            "9/9 [==============================] - 1s 66ms/step - loss: 0.0565 - accuracy: 0.9963\n",
            "Epoch 76/100\n",
            "9/9 [==============================] - 1s 65ms/step - loss: 0.0551 - accuracy: 0.9963\n",
            "Epoch 77/100\n",
            "9/9 [==============================] - 1s 66ms/step - loss: 0.0538 - accuracy: 0.9963\n",
            "Epoch 78/100\n",
            "9/9 [==============================] - 1s 66ms/step - loss: 0.0527 - accuracy: 0.9963\n",
            "Epoch 79/100\n",
            "9/9 [==============================] - 1s 67ms/step - loss: 0.0515 - accuracy: 1.0000\n",
            "Epoch 80/100\n",
            "9/9 [==============================] - 1s 67ms/step - loss: 0.0504 - accuracy: 1.0000\n",
            "Epoch 81/100\n",
            "9/9 [==============================] - 1s 66ms/step - loss: 0.0494 - accuracy: 1.0000\n",
            "Epoch 82/100\n",
            "9/9 [==============================] - 1s 68ms/step - loss: 0.0483 - accuracy: 1.0000\n",
            "Epoch 83/100\n",
            "9/9 [==============================] - 1s 66ms/step - loss: 0.0473 - accuracy: 1.0000\n",
            "Epoch 84/100\n",
            "9/9 [==============================] - 1s 66ms/step - loss: 0.0464 - accuracy: 1.0000\n",
            "Epoch 85/100\n",
            "9/9 [==============================] - 1s 68ms/step - loss: 0.0455 - accuracy: 1.0000\n",
            "Epoch 86/100\n",
            "9/9 [==============================] - 1s 67ms/step - loss: 0.0445 - accuracy: 1.0000\n",
            "Epoch 87/100\n",
            "9/9 [==============================] - 1s 68ms/step - loss: 0.0436 - accuracy: 1.0000\n",
            "Epoch 88/100\n",
            "9/9 [==============================] - 1s 69ms/step - loss: 0.0427 - accuracy: 1.0000\n",
            "Epoch 89/100\n",
            "9/9 [==============================] - 1s 68ms/step - loss: 0.0418 - accuracy: 1.0000\n",
            "Epoch 90/100\n",
            "9/9 [==============================] - 1s 66ms/step - loss: 0.0408 - accuracy: 1.0000\n",
            "Epoch 91/100\n",
            "9/9 [==============================] - 1s 66ms/step - loss: 0.0400 - accuracy: 1.0000\n",
            "Epoch 92/100\n",
            "9/9 [==============================] - 1s 68ms/step - loss: 0.0392 - accuracy: 1.0000\n",
            "Epoch 93/100\n",
            "9/9 [==============================] - 1s 75ms/step - loss: 0.0385 - accuracy: 1.0000\n",
            "Epoch 94/100\n",
            "9/9 [==============================] - 1s 72ms/step - loss: 0.0376 - accuracy: 1.0000\n",
            "Epoch 95/100\n",
            "9/9 [==============================] - 1s 68ms/step - loss: 0.0366 - accuracy: 1.0000\n",
            "Epoch 96/100\n",
            "9/9 [==============================] - 1s 66ms/step - loss: 0.0358 - accuracy: 1.0000\n",
            "Epoch 97/100\n",
            "9/9 [==============================] - 1s 71ms/step - loss: 0.0350 - accuracy: 1.0000\n",
            "Epoch 98/100\n",
            "9/9 [==============================] - 1s 75ms/step - loss: 0.0344 - accuracy: 1.0000\n",
            "Epoch 99/100\n",
            "9/9 [==============================] - 1s 69ms/step - loss: 0.0337 - accuracy: 1.0000\n",
            "Epoch 100/100\n",
            "9/9 [==============================] - 1s 65ms/step - loss: 0.0330 - accuracy: 1.0000\n"
          ],
          "name": "stdout"
        }
      ]
    },
    {
      "cell_type": "code",
      "metadata": {
        "id": "1n_JnbEzaUj8",
        "colab_type": "code",
        "colab": {
          "base_uri": "https://localhost:8080/",
          "height": 51
        },
        "outputId": "0d61c179-bd6b-447d-b78c-af5a5f499821"
      },
      "source": [
        "#run this cell if utilizing CNN-LSTM model\n",
        "n_timesteps,n_features,n_outputs = trainX.shape[1],trainX.shape[2], trainy[1]\n",
        "\n",
        "#reshape data into time steps of sub-sequences\n",
        "n_steps, n_length = 2, 119\n",
        "\n",
        "trainX = trainX.reshape((trainX.shape[0], n_steps, n_length, n_features))\n",
        "testX = testX.reshape((testX.shape[0], n_steps, n_length, n_features))\n",
        "print(trainX.shape)\n",
        "print(testX.shape)"
      ],
      "execution_count": null,
      "outputs": [
        {
          "output_type": "stream",
          "text": [
            "(268, 2, 119, 6)\n",
            "(50, 2, 119, 6)\n"
          ],
          "name": "stdout"
        }
      ]
    },
    {
      "cell_type": "code",
      "metadata": {
        "id": "AuAaY-laaUj-",
        "colab_type": "code",
        "colab": {}
      },
      "source": [
        "#model CNN-LSTM\n",
        "model = tf.keras.Sequential()\n",
        "model.add(tf.keras.layers.TimeDistributed(tf.keras.layers.Conv1D(filters=64, kernel_size=3, activation='relu'), input_shape=(None,n_length,n_features)))\n",
        "model.add(tf.keras.layers.TimeDistributed(tf.keras.layers.Conv1D(filters=64, kernel_size=3, activation='relu')))\n",
        "model.add(tf.keras.layers.TimeDistributed(tf.keras.layers.Dropout(0.5)))\n",
        "model.add(tf.keras.layers.TimeDistributed(tf.keras.layers.MaxPooling1D(pool_size=2)))\n",
        "model.add(tf.keras.layers.TimeDistributed(tf.keras.layers.Flatten()))\n",
        "model.add(tf.keras.layers.LSTM(100))\n",
        "model.add(tf.keras.layers.Dropout(0.5))\n",
        "model.add(tf.keras.layers.Dense(100, activation='relu'))\n",
        "model.add(tf.keras.layers.Dense(5, activation='softmax'))\n",
        "model.compile(loss='categorical_crossentropy', optimizer='adam', metrics=['accuracy'])\n",
        "# fit network\n",
        "history = model.fit(trainX,trainy, epochs=100)"
      ],
      "execution_count": null,
      "outputs": []
    },
    {
      "cell_type": "code",
      "metadata": {
        "id": "I2g8_WFHaUkA",
        "colab_type": "code",
        "colab": {
          "base_uri": "https://localhost:8080/",
          "height": 1000
        },
        "outputId": "0de54973-7839-4ed2-bf63-18980cf6fabc"
      },
      "source": [
        "predictions = model.predict(testX)\n",
        "print(\"predictions =\\n\", np.round(predictions, decimals=3))\n",
        "print(\"actual =\\n\", testy)"
      ],
      "execution_count": null,
      "outputs": [
        {
          "output_type": "stream",
          "text": [
            "predictions =\n",
            " [[0.969 0.025 0.001 0.002 0.002]\n",
            " [0.929 0.06  0.001 0.006 0.004]\n",
            " [0.229 0.733 0.013 0.004 0.021]\n",
            " [0.975 0.013 0.002 0.004 0.005]\n",
            " [0.991 0.005 0.001 0.001 0.001]\n",
            " [0.969 0.019 0.005 0.005 0.001]\n",
            " [0.991 0.002 0.    0.003 0.003]\n",
            " [0.57  0.367 0.013 0.006 0.043]\n",
            " [0.591 0.073 0.015 0.026 0.295]\n",
            " [0.383 0.161 0.115 0.021 0.321]\n",
            " [0.01  0.972 0.005 0.004 0.009]\n",
            " [0.047 0.852 0.009 0.06  0.031]\n",
            " [0.011 0.962 0.001 0.006 0.02 ]\n",
            " [0.008 0.986 0.001 0.001 0.003]\n",
            " [0.115 0.85  0.003 0.005 0.028]\n",
            " [0.01  0.957 0.005 0.015 0.013]\n",
            " [0.012 0.974 0.002 0.006 0.005]\n",
            " [0.006 0.986 0.003 0.002 0.003]\n",
            " [0.008 0.972 0.001 0.004 0.015]\n",
            " [0.238 0.724 0.004 0.007 0.026]\n",
            " [0.    0.    0.998 0.    0.001]\n",
            " [0.    0.    0.998 0.    0.001]\n",
            " [0.    0.    0.998 0.    0.001]\n",
            " [0.    0.    0.998 0.    0.001]\n",
            " [0.    0.    0.998 0.    0.001]\n",
            " [0.    0.    0.998 0.    0.001]\n",
            " [0.    0.    0.998 0.    0.001]\n",
            " [0.    0.    0.998 0.    0.001]\n",
            " [0.    0.    0.998 0.    0.001]\n",
            " [0.    0.    0.998 0.    0.001]\n",
            " [0.003 0.009 0.001 0.985 0.002]\n",
            " [0.007 0.002 0.004 0.976 0.011]\n",
            " [0.005 0.    0.006 0.973 0.016]\n",
            " [0.003 0.008 0.001 0.987 0.001]\n",
            " [0.005 0.002 0.011 0.884 0.098]\n",
            " [0.003 0.002 0.002 0.99  0.003]\n",
            " [0.004 0.008 0.001 0.985 0.002]\n",
            " [0.003 0.002 0.001 0.992 0.003]\n",
            " [0.86  0.024 0.014 0.085 0.017]\n",
            " [0.077 0.017 0.013 0.301 0.593]\n",
            " [0.005 0.002 0.006 0.007 0.98 ]\n",
            " [0.004 0.002 0.001 0.029 0.964]\n",
            " [0.002 0.035 0.014 0.004 0.944]\n",
            " [0.004 0.004 0.003 0.007 0.981]\n",
            " [0.005 0.019 0.009 0.016 0.95 ]\n",
            " [0.007 0.002 0.007 0.011 0.972]\n",
            " [0.007 0.004 0.007 0.011 0.971]\n",
            " [0.004 0.01  0.005 0.011 0.969]\n",
            " [0.002 0.031 0.007 0.003 0.957]\n",
            " [0.655 0.104 0.025 0.124 0.092]]\n",
            "actual =\n",
            " [[1. 0. 0. 0. 0.]\n",
            " [1. 0. 0. 0. 0.]\n",
            " [1. 0. 0. 0. 0.]\n",
            " [1. 0. 0. 0. 0.]\n",
            " [1. 0. 0. 0. 0.]\n",
            " [1. 0. 0. 0. 0.]\n",
            " [1. 0. 0. 0. 0.]\n",
            " [1. 0. 0. 0. 0.]\n",
            " [1. 0. 0. 0. 0.]\n",
            " [1. 0. 0. 0. 0.]\n",
            " [0. 1. 0. 0. 0.]\n",
            " [0. 1. 0. 0. 0.]\n",
            " [0. 1. 0. 0. 0.]\n",
            " [0. 1. 0. 0. 0.]\n",
            " [0. 1. 0. 0. 0.]\n",
            " [0. 1. 0. 0. 0.]\n",
            " [0. 1. 0. 0. 0.]\n",
            " [0. 1. 0. 0. 0.]\n",
            " [0. 1. 0. 0. 0.]\n",
            " [0. 1. 0. 0. 0.]\n",
            " [0. 0. 1. 0. 0.]\n",
            " [0. 0. 1. 0. 0.]\n",
            " [0. 0. 1. 0. 0.]\n",
            " [0. 0. 1. 0. 0.]\n",
            " [0. 0. 1. 0. 0.]\n",
            " [0. 0. 1. 0. 0.]\n",
            " [0. 0. 1. 0. 0.]\n",
            " [0. 0. 1. 0. 0.]\n",
            " [0. 0. 1. 0. 0.]\n",
            " [0. 0. 1. 0. 0.]\n",
            " [0. 0. 0. 1. 0.]\n",
            " [0. 0. 0. 1. 0.]\n",
            " [0. 0. 0. 1. 0.]\n",
            " [0. 0. 0. 1. 0.]\n",
            " [0. 0. 0. 1. 0.]\n",
            " [0. 0. 0. 1. 0.]\n",
            " [0. 0. 0. 1. 0.]\n",
            " [0. 0. 0. 1. 0.]\n",
            " [0. 0. 0. 1. 0.]\n",
            " [0. 0. 0. 1. 0.]\n",
            " [0. 0. 0. 0. 1.]\n",
            " [0. 0. 0. 0. 1.]\n",
            " [0. 0. 0. 0. 1.]\n",
            " [0. 0. 0. 0. 1.]\n",
            " [0. 0. 0. 0. 1.]\n",
            " [0. 0. 0. 0. 1.]\n",
            " [0. 0. 0. 0. 1.]\n",
            " [0. 0. 0. 0. 1.]\n",
            " [0. 0. 0. 0. 1.]\n",
            " [0. 0. 0. 0. 1.]]\n"
          ],
          "name": "stdout"
        }
      ]
    },
    {
      "cell_type": "code",
      "metadata": {
        "id": "foEjnZ_8aUkJ",
        "colab_type": "code",
        "colab": {}
      },
      "source": [
        "converter = tf.lite.TFLiteConverter.from_keras_model(model)\n",
        "tflite_model = converter.convert()\n",
        "\n",
        "open(\"gesture_model.tflite\", \"wb\").write(tflite_model)\n",
        "\n",
        "import os\n",
        "basic_model_size = os.path.getsize(\"gesture_model.tflite\")\n",
        "print(\"Model is %d bytes\" % basic_model_size)"
      ],
      "execution_count": null,
      "outputs": []
    },
    {
      "cell_type": "code",
      "metadata": {
        "id": "3MbceavNbwkS",
        "colab_type": "code",
        "colab": {}
      },
      "source": [
        "!echo \"const unsigned char model[] __attribute__((aligned(4))) = {\"  > /content/model.h\n",
        "!cat gesture_model.tflite | xxd -i                                  >> /content/model.h\n",
        "!echo \"};\"                                                          >> /content/model.h\n",
        "\n",
        "import os\n",
        "model_h_size = os.path.getsize(\"model.h\")\n",
        "print(f\"Header file, model.h, is {model_h_size:,} bytes.\")\n",
        "print(\"\\nOpen the side panel (refresh if needed). Double click model.h to download the file.\")"
      ],
      "execution_count": null,
      "outputs": []
    },
    {
      "cell_type": "code",
      "metadata": {
        "id": "7u49w_YTcp1o",
        "colab_type": "code",
        "colab": {}
      },
      "source": [
        ""
      ],
      "execution_count": null,
      "outputs": []
    }
  ]
}